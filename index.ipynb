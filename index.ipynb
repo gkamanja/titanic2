{
 "cells": [
  {
   "cell_type": "code",
   "execution_count": 252,
   "metadata": {},
   "outputs": [
    {
     "data": {
      "text/plain": [
       "{'height': 600, 'scroll': True, 'width': 1000}"
      ]
     },
     "execution_count": 252,
     "metadata": {},
     "output_type": "execute_result"
    }
   ],
   "source": [
    "from notebook.services.config import ConfigManager\n",
    "cm = ConfigManager()\n",
    "cm.update('livereveal', {\n",
    "              'width': 1000,\n",
    "              'height': 600,\n",
    "              'scroll': True,\n",
    "})"
   ]
  },
  {
   "cell_type": "code",
   "execution_count": 253,
   "metadata": {},
   "outputs": [
    {
     "data": {
      "text/plain": [
       "'3.0.2'"
      ]
     },
     "execution_count": 253,
     "metadata": {},
     "output_type": "execute_result"
    }
   ],
   "source": [
    "import nbpresent\n",
    "nbpresent.__version__"
   ]
  },
  {
   "cell_type": "code",
   "execution_count": 254,
   "metadata": {
    "slideshow": {
     "slide_type": "slide"
    }
   },
   "outputs": [],
   "source": [
    "# Questions:\n",
    "#  Q1. Does social-economic standing affect survivorbility?\n",
    "#  Q2. Does sex affect survivorbility?\n",
    "#  Q3. Does age regardless of sex affect survivorbility?\n",
    "#  Q4. Did women and children have preference to lifeboats and therefore survival?\n",
    "#  Q5.How did children with nannies fare with children without nannies?\n",
    "\n",
    "# Wrangle data by:\n",
    "#  1. Removing duplicate entries\n",
    "#  2. Finding and removing null entries\n",
    "#  3. Removing unnecessary columns\n",
    "\n",
    "#Explore the data\n",
    "#Draw conclusions\n",
    "#Communicate"
   ]
  },
  {
   "cell_type": "code",
   "execution_count": 255,
   "metadata": {
    "slideshow": {
     "slide_type": "slide"
    }
   },
   "outputs": [],
   "source": [
    "# Import modules needed\n",
    "%matplotlib inline\n",
    "import pandas as pd\n",
    "import matplotlib.pyplot as plt\n",
    "import seaborn as sns\n",
    "import numpy as np\n",
    "\n",
    "pd.options.mode.chained_assignment=None #(assignment to disable SettingWithCopyWarning created to flag potentially \n",
    "#confusing 'chained' assignments\n",
    "\n",
    "# style for all graphs\n",
    "sns.set(style='darkgrid')\n",
    "sns.set_color_codes('pastel')\n",
    "\n",
    "#read in the dataset, create dataframe\n",
    "titanic = pd.read_csv('titanic_data.csv')"
   ]
  },
  {
   "cell_type": "code",
   "execution_count": 256,
   "metadata": {
    "slideshow": {
     "slide_type": "slide"
    }
   },
   "outputs": [
    {
     "data": {
      "text/html": [
       "<div>\n",
       "<style scoped>\n",
       "    .dataframe tbody tr th:only-of-type {\n",
       "        vertical-align: middle;\n",
       "    }\n",
       "\n",
       "    .dataframe tbody tr th {\n",
       "        vertical-align: top;\n",
       "    }\n",
       "\n",
       "    .dataframe thead th {\n",
       "        text-align: right;\n",
       "    }\n",
       "</style>\n",
       "<table border=\"1\" class=\"dataframe\">\n",
       "  <thead>\n",
       "    <tr style=\"text-align: right;\">\n",
       "      <th></th>\n",
       "      <th>PassengerId</th>\n",
       "      <th>Survived</th>\n",
       "      <th>Pclass</th>\n",
       "      <th>Name</th>\n",
       "      <th>Sex</th>\n",
       "      <th>Age</th>\n",
       "      <th>SibSp</th>\n",
       "      <th>Parch</th>\n",
       "      <th>Ticket</th>\n",
       "      <th>Fare</th>\n",
       "      <th>Cabin</th>\n",
       "      <th>Embarked</th>\n",
       "    </tr>\n",
       "  </thead>\n",
       "  <tbody>\n",
       "    <tr>\n",
       "      <th>0</th>\n",
       "      <td>1</td>\n",
       "      <td>0</td>\n",
       "      <td>3</td>\n",
       "      <td>Braund, Mr. Owen Harris</td>\n",
       "      <td>male</td>\n",
       "      <td>22.0</td>\n",
       "      <td>1</td>\n",
       "      <td>0</td>\n",
       "      <td>A/5 21171</td>\n",
       "      <td>7.2500</td>\n",
       "      <td>NaN</td>\n",
       "      <td>S</td>\n",
       "    </tr>\n",
       "    <tr>\n",
       "      <th>1</th>\n",
       "      <td>2</td>\n",
       "      <td>1</td>\n",
       "      <td>1</td>\n",
       "      <td>Cumings, Mrs. John Bradley (Florence Briggs Th...</td>\n",
       "      <td>female</td>\n",
       "      <td>38.0</td>\n",
       "      <td>1</td>\n",
       "      <td>0</td>\n",
       "      <td>PC 17599</td>\n",
       "      <td>71.2833</td>\n",
       "      <td>C85</td>\n",
       "      <td>C</td>\n",
       "    </tr>\n",
       "    <tr>\n",
       "      <th>2</th>\n",
       "      <td>3</td>\n",
       "      <td>1</td>\n",
       "      <td>3</td>\n",
       "      <td>Heikkinen, Miss. Laina</td>\n",
       "      <td>female</td>\n",
       "      <td>26.0</td>\n",
       "      <td>0</td>\n",
       "      <td>0</td>\n",
       "      <td>STON/O2. 3101282</td>\n",
       "      <td>7.9250</td>\n",
       "      <td>NaN</td>\n",
       "      <td>S</td>\n",
       "    </tr>\n",
       "    <tr>\n",
       "      <th>3</th>\n",
       "      <td>4</td>\n",
       "      <td>1</td>\n",
       "      <td>1</td>\n",
       "      <td>Futrelle, Mrs. Jacques Heath (Lily May Peel)</td>\n",
       "      <td>female</td>\n",
       "      <td>35.0</td>\n",
       "      <td>1</td>\n",
       "      <td>0</td>\n",
       "      <td>113803</td>\n",
       "      <td>53.1000</td>\n",
       "      <td>C123</td>\n",
       "      <td>S</td>\n",
       "    </tr>\n",
       "    <tr>\n",
       "      <th>4</th>\n",
       "      <td>5</td>\n",
       "      <td>0</td>\n",
       "      <td>3</td>\n",
       "      <td>Allen, Mr. William Henry</td>\n",
       "      <td>male</td>\n",
       "      <td>35.0</td>\n",
       "      <td>0</td>\n",
       "      <td>0</td>\n",
       "      <td>373450</td>\n",
       "      <td>8.0500</td>\n",
       "      <td>NaN</td>\n",
       "      <td>S</td>\n",
       "    </tr>\n",
       "  </tbody>\n",
       "</table>\n",
       "</div>"
      ],
      "text/plain": [
       "   PassengerId  Survived  Pclass  \\\n",
       "0            1         0       3   \n",
       "1            2         1       1   \n",
       "2            3         1       3   \n",
       "3            4         1       1   \n",
       "4            5         0       3   \n",
       "\n",
       "                                                Name     Sex   Age  SibSp  \\\n",
       "0                            Braund, Mr. Owen Harris    male  22.0      1   \n",
       "1  Cumings, Mrs. John Bradley (Florence Briggs Th...  female  38.0      1   \n",
       "2                             Heikkinen, Miss. Laina  female  26.0      0   \n",
       "3       Futrelle, Mrs. Jacques Heath (Lily May Peel)  female  35.0      1   \n",
       "4                           Allen, Mr. William Henry    male  35.0      0   \n",
       "\n",
       "   Parch            Ticket     Fare Cabin Embarked  \n",
       "0      0         A/5 21171   7.2500   NaN        S  \n",
       "1      0          PC 17599  71.2833   C85        C  \n",
       "2      0  STON/O2. 3101282   7.9250   NaN        S  \n",
       "3      0            113803  53.1000  C123        S  \n",
       "4      0            373450   8.0500   NaN        S  "
      ]
     },
     "execution_count": 256,
     "metadata": {},
     "output_type": "execute_result"
    }
   ],
   "source": [
    "#sample of dataframe\n",
    "titanic.head()"
   ]
  },
  {
   "cell_type": "code",
   "execution_count": 257,
   "metadata": {
    "slideshow": {
     "slide_type": "subslide"
    }
   },
   "outputs": [
    {
     "name": "stdout",
     "output_type": "stream",
     "text": [
      "<class 'pandas.core.frame.DataFrame'>\n",
      "RangeIndex: 891 entries, 0 to 890\n",
      "Data columns (total 12 columns):\n",
      "PassengerId    891 non-null int64\n",
      "Survived       891 non-null int64\n",
      "Pclass         891 non-null int64\n",
      "Name           891 non-null object\n",
      "Sex            891 non-null object\n",
      "Age            714 non-null float64\n",
      "SibSp          891 non-null int64\n",
      "Parch          891 non-null int64\n",
      "Ticket         891 non-null object\n",
      "Fare           891 non-null float64\n",
      "Cabin          204 non-null object\n",
      "Embarked       889 non-null object\n",
      "dtypes: float64(2), int64(5), object(5)\n",
      "memory usage: 83.6+ KB\n"
     ]
    }
   ],
   "source": [
    "#description of dataframe\n",
    "titanic.info()"
   ]
  },
  {
   "cell_type": "code",
   "execution_count": 258,
   "metadata": {
    "slideshow": {
     "slide_type": "subslide"
    }
   },
   "outputs": [
    {
     "name": "stdout",
     "output_type": "stream",
     "text": [
      "Duplicate entries in titanic dataset:  0\n"
     ]
    }
   ],
   "source": [
    "# identify duplicate entries\n",
    "titanic_duplicate = titanic.duplicated().sum()\n",
    "print('Duplicate entries in titanic dataset: ',titanic_duplicate)"
   ]
  },
  {
   "cell_type": "code",
   "execution_count": 259,
   "metadata": {
    "slideshow": {
     "slide_type": "slide"
    }
   },
   "outputs": [
    {
     "data": {
      "text/html": [
       "<div>\n",
       "<style scoped>\n",
       "    .dataframe tbody tr th:only-of-type {\n",
       "        vertical-align: middle;\n",
       "    }\n",
       "\n",
       "    .dataframe tbody tr th {\n",
       "        vertical-align: top;\n",
       "    }\n",
       "\n",
       "    .dataframe thead th {\n",
       "        text-align: right;\n",
       "    }\n",
       "</style>\n",
       "<table border=\"1\" class=\"dataframe\">\n",
       "  <thead>\n",
       "    <tr style=\"text-align: right;\">\n",
       "      <th></th>\n",
       "      <th>Survived</th>\n",
       "      <th>Pclass</th>\n",
       "      <th>Sex</th>\n",
       "      <th>Age</th>\n",
       "      <th>SibSp</th>\n",
       "      <th>Parch</th>\n",
       "      <th>Embarked</th>\n",
       "    </tr>\n",
       "  </thead>\n",
       "  <tbody>\n",
       "    <tr>\n",
       "      <th>0</th>\n",
       "      <td>0</td>\n",
       "      <td>3</td>\n",
       "      <td>male</td>\n",
       "      <td>22.0</td>\n",
       "      <td>1</td>\n",
       "      <td>0</td>\n",
       "      <td>S</td>\n",
       "    </tr>\n",
       "    <tr>\n",
       "      <th>1</th>\n",
       "      <td>1</td>\n",
       "      <td>1</td>\n",
       "      <td>female</td>\n",
       "      <td>38.0</td>\n",
       "      <td>1</td>\n",
       "      <td>0</td>\n",
       "      <td>C</td>\n",
       "    </tr>\n",
       "    <tr>\n",
       "      <th>2</th>\n",
       "      <td>1</td>\n",
       "      <td>3</td>\n",
       "      <td>female</td>\n",
       "      <td>26.0</td>\n",
       "      <td>0</td>\n",
       "      <td>0</td>\n",
       "      <td>S</td>\n",
       "    </tr>\n",
       "    <tr>\n",
       "      <th>3</th>\n",
       "      <td>1</td>\n",
       "      <td>1</td>\n",
       "      <td>female</td>\n",
       "      <td>35.0</td>\n",
       "      <td>1</td>\n",
       "      <td>0</td>\n",
       "      <td>S</td>\n",
       "    </tr>\n",
       "    <tr>\n",
       "      <th>4</th>\n",
       "      <td>0</td>\n",
       "      <td>3</td>\n",
       "      <td>male</td>\n",
       "      <td>35.0</td>\n",
       "      <td>0</td>\n",
       "      <td>0</td>\n",
       "      <td>S</td>\n",
       "    </tr>\n",
       "  </tbody>\n",
       "</table>\n",
       "</div>"
      ],
      "text/plain": [
       "   Survived  Pclass     Sex   Age  SibSp  Parch Embarked\n",
       "0         0       3    male  22.0      1      0        S\n",
       "1         1       1  female  38.0      1      0        C\n",
       "2         1       3  female  26.0      0      0        S\n",
       "3         1       1  female  35.0      1      0        S\n",
       "4         0       3    male  35.0      0      0        S"
      ]
     },
     "execution_count": 259,
     "metadata": {},
     "output_type": "execute_result"
    }
   ],
   "source": [
    "# Remove unnecessary columns\n",
    "titanic_lite = titanic.drop(['PassengerId','Name','Ticket','Fare','Cabin'],axis=1)\n",
    "titanic_lite.head()"
   ]
  },
  {
   "cell_type": "code",
   "execution_count": 260,
   "metadata": {
    "slideshow": {
     "slide_type": "subslide"
    }
   },
   "outputs": [
    {
     "name": "stdout",
     "output_type": "stream",
     "text": [
      "<class 'pandas.core.frame.DataFrame'>\n",
      "RangeIndex: 891 entries, 0 to 890\n",
      "Data columns (total 7 columns):\n",
      "Survived    891 non-null int64\n",
      "Pclass      891 non-null int64\n",
      "Sex         891 non-null object\n",
      "Age         714 non-null float64\n",
      "SibSp       891 non-null int64\n",
      "Parch       891 non-null int64\n",
      "Embarked    889 non-null object\n",
      "dtypes: float64(1), int64(4), object(2)\n",
      "memory usage: 48.8+ KB\n"
     ]
    }
   ],
   "source": [
    "#description of titanic_lite\n",
    "titanic_lite.info()"
   ]
  },
  {
   "cell_type": "code",
   "execution_count": 261,
   "metadata": {
    "slideshow": {
     "slide_type": "slide"
    }
   },
   "outputs": [
    {
     "data": {
      "text/plain": [
       "Survived      0\n",
       "Pclass        0\n",
       "Sex           0\n",
       "Age         177\n",
       "SibSp         0\n",
       "Parch         0\n",
       "Embarked      2\n",
       "dtype: int64"
      ]
     },
     "execution_count": 261,
     "metadata": {},
     "output_type": "execute_result"
    }
   ],
   "source": [
    "#null values in dataframe\n",
    "titanic_lite.isnull().sum()"
   ]
  },
  {
   "cell_type": "code",
   "execution_count": 262,
   "metadata": {
    "slideshow": {
     "slide_type": "subslide"
    }
   },
   "outputs": [
    {
     "data": {
      "text/html": [
       "<div>\n",
       "<style scoped>\n",
       "    .dataframe tbody tr th:only-of-type {\n",
       "        vertical-align: middle;\n",
       "    }\n",
       "\n",
       "    .dataframe tbody tr th {\n",
       "        vertical-align: top;\n",
       "    }\n",
       "\n",
       "    .dataframe thead th {\n",
       "        text-align: right;\n",
       "    }\n",
       "</style>\n",
       "<table border=\"1\" class=\"dataframe\">\n",
       "  <thead>\n",
       "    <tr style=\"text-align: right;\">\n",
       "      <th></th>\n",
       "      <th>Survived</th>\n",
       "      <th>Pclass</th>\n",
       "      <th>Sex</th>\n",
       "      <th>Age</th>\n",
       "      <th>SibSp</th>\n",
       "      <th>Parch</th>\n",
       "      <th>Embarked</th>\n",
       "    </tr>\n",
       "  </thead>\n",
       "  <tbody>\n",
       "    <tr>\n",
       "      <th>5</th>\n",
       "      <td>0</td>\n",
       "      <td>3</td>\n",
       "      <td>male</td>\n",
       "      <td>NaN</td>\n",
       "      <td>0</td>\n",
       "      <td>0</td>\n",
       "      <td>Q</td>\n",
       "    </tr>\n",
       "    <tr>\n",
       "      <th>17</th>\n",
       "      <td>1</td>\n",
       "      <td>2</td>\n",
       "      <td>male</td>\n",
       "      <td>NaN</td>\n",
       "      <td>0</td>\n",
       "      <td>0</td>\n",
       "      <td>S</td>\n",
       "    </tr>\n",
       "    <tr>\n",
       "      <th>19</th>\n",
       "      <td>1</td>\n",
       "      <td>3</td>\n",
       "      <td>female</td>\n",
       "      <td>NaN</td>\n",
       "      <td>0</td>\n",
       "      <td>0</td>\n",
       "      <td>C</td>\n",
       "    </tr>\n",
       "    <tr>\n",
       "      <th>26</th>\n",
       "      <td>0</td>\n",
       "      <td>3</td>\n",
       "      <td>male</td>\n",
       "      <td>NaN</td>\n",
       "      <td>0</td>\n",
       "      <td>0</td>\n",
       "      <td>C</td>\n",
       "    </tr>\n",
       "    <tr>\n",
       "      <th>28</th>\n",
       "      <td>1</td>\n",
       "      <td>3</td>\n",
       "      <td>female</td>\n",
       "      <td>NaN</td>\n",
       "      <td>0</td>\n",
       "      <td>0</td>\n",
       "      <td>Q</td>\n",
       "    </tr>\n",
       "  </tbody>\n",
       "</table>\n",
       "</div>"
      ],
      "text/plain": [
       "    Survived  Pclass     Sex  Age  SibSp  Parch Embarked\n",
       "5          0       3    male  NaN      0      0        Q\n",
       "17         1       2    male  NaN      0      0        S\n",
       "19         1       3  female  NaN      0      0        C\n",
       "26         0       3    male  NaN      0      0        C\n",
       "28         1       3  female  NaN      0      0        Q"
      ]
     },
     "execution_count": 262,
     "metadata": {},
     "output_type": "execute_result"
    }
   ],
   "source": [
    "#sample of null values\n",
    "titanic_null_values = pd.isnull(titanic_lite['Age'])\n",
    "titanic_lite[titanic_null_values].head()"
   ]
  },
  {
   "cell_type": "markdown",
   "metadata": {
    "slideshow": {
     "slide_type": "skip"
    }
   },
   "source": [
    "Null age entries won't affect computation of mean as they will be treated as '0' value."
   ]
  },
  {
   "cell_type": "code",
   "execution_count": 263,
   "metadata": {
    "slideshow": {
     "slide_type": "subslide"
    }
   },
   "outputs": [
    {
     "name": "stdout",
     "output_type": "stream",
     "text": [
      "124 males and 53 females missing ages\n"
     ]
    }
   ],
   "source": [
    "#sum of missing age by gender\n",
    "missing_age_female = titanic_lite[titanic_null_values]['Sex']=='female'\n",
    "missing_age_male = titanic_lite[titanic_null_values]['Sex']=='male'\n",
    "\n",
    "print('{} males and {} females missing ages'.format(missing_age_male.sum(),missing_age_female.sum()))"
   ]
  },
  {
   "cell_type": "code",
   "execution_count": 264,
   "metadata": {
    "slideshow": {
     "slide_type": "slide"
    }
   },
   "outputs": [
    {
     "data": {
      "text/html": [
       "<div>\n",
       "<style scoped>\n",
       "    .dataframe tbody tr th:only-of-type {\n",
       "        vertical-align: middle;\n",
       "    }\n",
       "\n",
       "    .dataframe tbody tr th {\n",
       "        vertical-align: top;\n",
       "    }\n",
       "\n",
       "    .dataframe thead th {\n",
       "        text-align: right;\n",
       "    }\n",
       "</style>\n",
       "<table border=\"1\" class=\"dataframe\">\n",
       "  <thead>\n",
       "    <tr style=\"text-align: right;\">\n",
       "      <th></th>\n",
       "      <th>Survived</th>\n",
       "      <th>Pclass</th>\n",
       "      <th>Age</th>\n",
       "      <th>SibSp</th>\n",
       "      <th>Parch</th>\n",
       "    </tr>\n",
       "  </thead>\n",
       "  <tbody>\n",
       "    <tr>\n",
       "      <th>count</th>\n",
       "      <td>891.000000</td>\n",
       "      <td>891.000000</td>\n",
       "      <td>714.000000</td>\n",
       "      <td>891.000000</td>\n",
       "      <td>891.000000</td>\n",
       "    </tr>\n",
       "    <tr>\n",
       "      <th>mean</th>\n",
       "      <td>0.383838</td>\n",
       "      <td>2.308642</td>\n",
       "      <td>29.699118</td>\n",
       "      <td>0.523008</td>\n",
       "      <td>0.381594</td>\n",
       "    </tr>\n",
       "    <tr>\n",
       "      <th>std</th>\n",
       "      <td>0.486592</td>\n",
       "      <td>0.836071</td>\n",
       "      <td>14.526497</td>\n",
       "      <td>1.102743</td>\n",
       "      <td>0.806057</td>\n",
       "    </tr>\n",
       "    <tr>\n",
       "      <th>min</th>\n",
       "      <td>0.000000</td>\n",
       "      <td>1.000000</td>\n",
       "      <td>0.420000</td>\n",
       "      <td>0.000000</td>\n",
       "      <td>0.000000</td>\n",
       "    </tr>\n",
       "    <tr>\n",
       "      <th>25%</th>\n",
       "      <td>0.000000</td>\n",
       "      <td>2.000000</td>\n",
       "      <td>20.125000</td>\n",
       "      <td>0.000000</td>\n",
       "      <td>0.000000</td>\n",
       "    </tr>\n",
       "    <tr>\n",
       "      <th>50%</th>\n",
       "      <td>0.000000</td>\n",
       "      <td>3.000000</td>\n",
       "      <td>28.000000</td>\n",
       "      <td>0.000000</td>\n",
       "      <td>0.000000</td>\n",
       "    </tr>\n",
       "    <tr>\n",
       "      <th>75%</th>\n",
       "      <td>1.000000</td>\n",
       "      <td>3.000000</td>\n",
       "      <td>38.000000</td>\n",
       "      <td>1.000000</td>\n",
       "      <td>0.000000</td>\n",
       "    </tr>\n",
       "    <tr>\n",
       "      <th>max</th>\n",
       "      <td>1.000000</td>\n",
       "      <td>3.000000</td>\n",
       "      <td>80.000000</td>\n",
       "      <td>8.000000</td>\n",
       "      <td>6.000000</td>\n",
       "    </tr>\n",
       "  </tbody>\n",
       "</table>\n",
       "</div>"
      ],
      "text/plain": [
       "         Survived      Pclass         Age       SibSp       Parch\n",
       "count  891.000000  891.000000  714.000000  891.000000  891.000000\n",
       "mean     0.383838    2.308642   29.699118    0.523008    0.381594\n",
       "std      0.486592    0.836071   14.526497    1.102743    0.806057\n",
       "min      0.000000    1.000000    0.420000    0.000000    0.000000\n",
       "25%      0.000000    2.000000   20.125000    0.000000    0.000000\n",
       "50%      0.000000    3.000000   28.000000    0.000000    0.000000\n",
       "75%      1.000000    3.000000   38.000000    1.000000    0.000000\n",
       "max      1.000000    3.000000   80.000000    8.000000    6.000000"
      ]
     },
     "execution_count": 264,
     "metadata": {},
     "output_type": "execute_result"
    }
   ],
   "source": [
    "#typical descriptive statistics\n",
    "titanic_lite.describe()"
   ]
  },
  {
   "cell_type": "code",
   "execution_count": 265,
   "metadata": {
    "slideshow": {
     "slide_type": "subslide"
    }
   },
   "outputs": [
    {
     "data": {
      "text/html": [
       "<div>\n",
       "<style scoped>\n",
       "    .dataframe tbody tr th:only-of-type {\n",
       "        vertical-align: middle;\n",
       "    }\n",
       "\n",
       "    .dataframe tbody tr th {\n",
       "        vertical-align: top;\n",
       "    }\n",
       "\n",
       "    .dataframe thead th {\n",
       "        text-align: right;\n",
       "    }\n",
       "</style>\n",
       "<table border=\"1\" class=\"dataframe\">\n",
       "  <thead>\n",
       "    <tr style=\"text-align: right;\">\n",
       "      <th></th>\n",
       "      <th>Survived</th>\n",
       "      <th>Pclass</th>\n",
       "      <th>Sex</th>\n",
       "      <th>Age</th>\n",
       "      <th>SibSp</th>\n",
       "      <th>Parch</th>\n",
       "      <th>Embarked</th>\n",
       "    </tr>\n",
       "  </thead>\n",
       "  <tbody>\n",
       "    <tr>\n",
       "      <th>78</th>\n",
       "      <td>1</td>\n",
       "      <td>2</td>\n",
       "      <td>male</td>\n",
       "      <td>0.83</td>\n",
       "      <td>0</td>\n",
       "      <td>2</td>\n",
       "      <td>S</td>\n",
       "    </tr>\n",
       "    <tr>\n",
       "      <th>305</th>\n",
       "      <td>1</td>\n",
       "      <td>1</td>\n",
       "      <td>male</td>\n",
       "      <td>0.92</td>\n",
       "      <td>1</td>\n",
       "      <td>2</td>\n",
       "      <td>S</td>\n",
       "    </tr>\n",
       "    <tr>\n",
       "      <th>469</th>\n",
       "      <td>1</td>\n",
       "      <td>3</td>\n",
       "      <td>female</td>\n",
       "      <td>0.75</td>\n",
       "      <td>2</td>\n",
       "      <td>1</td>\n",
       "      <td>C</td>\n",
       "    </tr>\n",
       "    <tr>\n",
       "      <th>644</th>\n",
       "      <td>1</td>\n",
       "      <td>3</td>\n",
       "      <td>female</td>\n",
       "      <td>0.75</td>\n",
       "      <td>2</td>\n",
       "      <td>1</td>\n",
       "      <td>C</td>\n",
       "    </tr>\n",
       "    <tr>\n",
       "      <th>755</th>\n",
       "      <td>1</td>\n",
       "      <td>2</td>\n",
       "      <td>male</td>\n",
       "      <td>0.67</td>\n",
       "      <td>1</td>\n",
       "      <td>1</td>\n",
       "      <td>S</td>\n",
       "    </tr>\n",
       "    <tr>\n",
       "      <th>803</th>\n",
       "      <td>1</td>\n",
       "      <td>3</td>\n",
       "      <td>male</td>\n",
       "      <td>0.42</td>\n",
       "      <td>0</td>\n",
       "      <td>1</td>\n",
       "      <td>C</td>\n",
       "    </tr>\n",
       "    <tr>\n",
       "      <th>831</th>\n",
       "      <td>1</td>\n",
       "      <td>2</td>\n",
       "      <td>male</td>\n",
       "      <td>0.83</td>\n",
       "      <td>1</td>\n",
       "      <td>1</td>\n",
       "      <td>S</td>\n",
       "    </tr>\n",
       "  </tbody>\n",
       "</table>\n",
       "</div>"
      ],
      "text/plain": [
       "     Survived  Pclass     Sex   Age  SibSp  Parch Embarked\n",
       "78          1       2    male  0.83      0      2        S\n",
       "305         1       1    male  0.92      1      2        S\n",
       "469         1       3  female  0.75      2      1        C\n",
       "644         1       3  female  0.75      2      1        C\n",
       "755         1       2    male  0.67      1      1        S\n",
       "803         1       3    male  0.42      0      1        C\n",
       "831         1       2    male  0.83      1      1        S"
      ]
     },
     "execution_count": 265,
     "metadata": {},
     "output_type": "execute_result"
    }
   ],
   "source": [
    "#passengers less than 1.0 yr in age\n",
    "titanic_lite[titanic_lite['Age']<1]"
   ]
  },
  {
   "cell_type": "code",
   "execution_count": 266,
   "metadata": {
    "slideshow": {
     "slide_type": "subslide"
    }
   },
   "outputs": [
    {
     "name": "stdout",
     "output_type": "stream",
     "text": [
      "Youngest survivor:  0.42\n",
      "Youngest fatality:  1.0\n",
      "Oldest survivor:  80.0\n",
      "Oldest fatality:  74.0\n"
     ]
    }
   ],
   "source": [
    "#youngest and oldest survivors and fatalities\n",
    "youngest_survivor = titanic_lite[titanic_lite['Survived']==True]['Age'].min()\n",
    "youngest_dead = titanic_lite[titanic_lite['Survived']==False]['Age'].min()\n",
    "oldest_dead = titanic_lite[titanic_lite['Survived']==False]['Age'].max()\n",
    "oldest_survivor = titanic_lite[titanic_lite['Survived']==True]['Age'].max()\n",
    "\n",
    "print('Youngest survivor: ',youngest_survivor)\n",
    "print('Youngest fatality: ',youngest_dead)\n",
    "print('Oldest survivor: ',oldest_survivor)\n",
    "print('Oldest fatality: ',oldest_dead)"
   ]
  },
  {
   "cell_type": "code",
   "execution_count": 267,
   "metadata": {
    "slideshow": {
     "slide_type": "slide"
    }
   },
   "outputs": [
    {
     "name": "stdout",
     "output_type": "stream",
     "text": [
      "No. of male passengers: 577\n",
      "No. of female passengers: 314\n",
      "\n",
      "Percentage of male passengers: 64.76%\n",
      "Percentage of female passengers: 35.24%\n"
     ]
    }
   ],
   "source": [
    "#No. of passengers by gender\n",
    "p_by_gender = titanic_lite.groupby(['Sex']).size()\n",
    "\n",
    "total_male_passengers = titanic_lite['Sex']=='male'\n",
    "total_female_passengers = titanic_lite['Sex']=='female'\n",
    "\n",
    "percent_male = (total_male_passengers.sum()/titanic_lite.Sex.count()*100).round(2)\n",
    "percent_female = (total_female_passengers.sum()/titanic_lite.Sex.count()*100).round(2)\n",
    "\n",
    "print('No. of male passengers: {}\\nNo. of female passengers: {}\\n'.format(total_male_passengers.sum(),total_female_passengers.sum()))\n",
    "print('Percentage of male passengers: {}%\\nPercentage of female passengers: {}%'.format(percent_male,percent_female))"
   ]
  },
  {
   "cell_type": "code",
   "execution_count": 268,
   "metadata": {
    "slideshow": {
     "slide_type": "subslide"
    }
   },
   "outputs": [
    {
     "data": {
      "text/plain": [
       "Text(0.5,1,'Total no. of passangers by gender.')"
      ]
     },
     "execution_count": 268,
     "metadata": {},
     "output_type": "execute_result"
    },
    {
     "data": {
      "image/png": "[encoded data removed]",
      "text/plain": [
       "<matplotlib.figure.Figure at 0x7fb9b401b208>"
      ]
     },
     "metadata": {},
     "output_type": "display_data"
    }
   ],
   "source": [
    "n_group = 2\n",
    "passengers = p_by_gender #[total_male_passengers.sum(),total_female_passengers.sum()]\n",
    "index = np.arange(n_group)\n",
    "g = sns.factorplot(x=index, y=p_by_gender, data=titanic_lite, saturation=0.5, kind='bar', ci=None, size=5, aspect=0.8)\n",
    "(g.set_axis_labels('Gender','No. of passengers')\n",
    ".set_xticklabels(['Female','Male'])\n",
    "#.set_titles('No. of passengers by gender.')\n",
    ")\n",
    "plt.title('Total no. of passangers by gender.', fontsize=13, color='purple')"
   ]
  },
  {
   "cell_type": "code",
   "execution_count": 269,
   "metadata": {
    "slideshow": {
     "slide_type": "slide"
    }
   },
   "outputs": [
    {
     "name": "stdout",
     "output_type": "stream",
     "text": [
      "Survived\n",
      "0    549\n",
      "1    342\n",
      "dtype: int64\n"
     ]
    },
    {
     "data": {
      "text/plain": [
       "Text(0.5,1,'Total no. of survivors and fatalities.')"
      ]
     },
     "execution_count": 269,
     "metadata": {},
     "output_type": "execute_result"
    },
    {
     "data": {
      "image/png": "[encoded data removed]",
      "text/plain": [
       "<matplotlib.figure.Figure at 0x7fb9b400b8d0>"
      ]
     },
     "metadata": {},
     "output_type": "display_data"
    }
   ],
   "source": [
    "#No. of survivors and fatalities\n",
    "survivors = titanic_lite.groupby(['Survived']).size()\n",
    "print(survivors)\n",
    "\n",
    "g = sns.factorplot('Survived', data=titanic_lite, kind='count', size=5, aspect=0.8)\n",
    "g.set_axis_labels('Survivors','No. of passengers')\n",
    "plt.title('Total no. of survivors and fatalities.')"
   ]
  },
  {
   "cell_type": "code",
   "execution_count": 270,
   "metadata": {
    "slideshow": {
     "slide_type": "subslide"
    }
   },
   "outputs": [
    {
     "name": "stdout",
     "output_type": "stream",
     "text": [
      "Survived  Sex   \n",
      "0         female     81\n",
      "          male      468\n",
      "1         female    233\n",
      "          male      109\n",
      "dtype: int64\n"
     ]
    },
    {
     "data": {
      "image/png": "[encoded data removed]",
      "text/plain": [
       "<matplotlib.figure.Figure at 0x7fb9b4172f28>"
      ]
     },
     "metadata": {},
     "output_type": "display_data"
    }
   ],
   "source": [
    "survivors_bysex = titanic_lite.groupby(['Survived','Sex']).size()\n",
    "print(survivors_bysex)\n",
    "g = sns.factorplot('Survived', hue='Sex', data=titanic_lite, kind='count', size=5, aspect=0.8, palette={'male':'purple','female':'coral'})"
   ]
  },
  {
   "cell_type": "code",
   "execution_count": 271,
   "metadata": {
    "slideshow": {
     "slide_type": "slide"
    }
   },
   "outputs": [
    {
     "name": "stdout",
     "output_type": "stream",
     "text": [
      "Pclass\n",
      "1    216\n",
      "2    184\n",
      "3    491\n",
      "dtype: int64\n"
     ]
    },
    {
     "data": {
      "text/plain": [
       "Text(0.5,1,'Total passengers by class.')"
      ]
     },
     "execution_count": 271,
     "metadata": {},
     "output_type": "execute_result"
    },
    {
     "data": {
      "image/png": "[encoded data removed]",
      "text/plain": [
       "<matplotlib.figure.Figure at 0x7fb9b4122c18>"
      ]
     },
     "metadata": {},
     "output_type": "display_data"
    }
   ],
   "source": [
    "#total no. of passengers in each class\n",
    "p_by_class = titanic_lite.groupby(['Pclass']).size()\n",
    "print(p_by_class)\n",
    "\n",
    "n_group = 3\n",
    "index = np.arange(n_group)\n",
    "g = sns.factorplot(x=index, y=p_by_class, data=titanic_lite, saturation=0.5, kind='bar', ci=None, size=5, aspect=0.8)\n",
    "(g.set_axis_labels('Class','No. of Passengers')\n",
    ".set_xticklabels(['1','2','3'])\n",
    "#.set_titles('No. of passengers by class')\n",
    ".despine(left=True,bottom=True))\n",
    "plt.title('Total passengers by class.', fontsize=15)"
   ]
  },
  {
   "cell_type": "code",
   "execution_count": 272,
   "metadata": {
    "slideshow": {
     "slide_type": "subslide"
    }
   },
   "outputs": [
    {
     "data": {
      "text/plain": [
       "(-1.2203017307939186,\n",
       " 1.1166105875419734,\n",
       " -1.1172913990393432,\n",
       " 1.10186730344654)"
      ]
     },
     "execution_count": 272,
     "metadata": {},
     "output_type": "execute_result"
    },
    {
     "data": {
      "image/png": "[encoded data removed]",
      "text/plain": [
       "<matplotlib.figure.Figure at 0x7fb9b402d668>"
      ]
     },
     "metadata": {},
     "output_type": "display_data"
    }
   ],
   "source": [
    "plt.pie(p_by_class, explode=(0.1,0,0), labels=['1st class','2nd class','3rd class'], colors=['r','g','b'], autopct='%1.1f%%', shadow=True, startangle=140)\n",
    "plt.axis('equal')"
   ]
  },
  {
   "cell_type": "markdown",
   "metadata": {
    "slideshow": {
     "slide_type": "subslide"
    }
   },
   "source": [
    "As expected, third class passengers were the majority of passengers at 55.1%. However, the numbers did not follow the expecte trend with first class passengers outnumbering second class by 3.5%."
   ]
  },
  {
   "cell_type": "code",
   "execution_count": 273,
   "metadata": {
    "slideshow": {
     "slide_type": "slide"
    }
   },
   "outputs": [
    {
     "name": "stdout",
     "output_type": "stream",
     "text": [
      "Pclass  Sex   \n",
      "1       female     94\n",
      "        male      122\n",
      "2       female     76\n",
      "        male      108\n",
      "3       female    144\n",
      "        male      347\n",
      "dtype: int64\n"
     ]
    }
   ],
   "source": [
    "#total no. of passengers in each class by sex\n",
    "class_groupby_sex = titanic_lite.groupby(['Pclass','Sex']).size()\n",
    "print(class_groupby_sex)\n"
   ]
  },
  {
   "cell_type": "code",
   "execution_count": 274,
   "metadata": {
    "slideshow": {
     "slide_type": "subslide"
    }
   },
   "outputs": [
    {
     "data": {
      "text/plain": [
       "<seaborn.axisgrid.FacetGrid at 0x7fb9b40984a8>"
      ]
     },
     "execution_count": 274,
     "metadata": {},
     "output_type": "execute_result"
    },
    {
     "data": {
      "image/png": "[encoded data removed]",
      "text/plain": [
       "<matplotlib.figure.Figure at 0x7fb9b4275898>"
      ]
     },
     "metadata": {},
     "output_type": "display_data"
    }
   ],
   "source": [
    "#g = sns.factorplot(x='Sex', y='Survived', col='Pclass', data=titanic_lite, kind='bar', ci=None, size=5, aspect=0.5)\n",
    "g = sns.factorplot('Sex', col='Pclass', hue='Sex', data=titanic_lite, kind='count', size=5, aspect=0.6,  palette={'male':'purple','female':'coral'})\n",
    "(g.set_axis_labels('Gender','No. of passengers')\n",
    ".set_titles('Class {col_name}'))"
   ]
  },
  {
   "cell_type": "code",
   "execution_count": 275,
   "metadata": {
    "slideshow": {
     "slide_type": "slide"
    }
   },
   "outputs": [
    {
     "name": "stdout",
     "output_type": "stream",
     "text": [
      "Pclass  Sex     Survived\n",
      "1       female  0             3\n",
      "                1            91\n",
      "        male    0            77\n",
      "                1            45\n",
      "2       female  0             6\n",
      "                1            70\n",
      "        male    0            91\n",
      "                1            17\n",
      "3       female  0            72\n",
      "                1            72\n",
      "        male    0           300\n",
      "                1            47\n",
      "dtype: int64\n"
     ]
    }
   ],
   "source": [
    "#no. of survivors and fatalities per class and based on sex\n",
    "survivors_per_classx = titanic_lite.groupby(['Pclass','Sex','Survived']).size()\n",
    "print(survivors_per_classx)\n"
   ]
  },
  {
   "cell_type": "code",
   "execution_count": 276,
   "metadata": {
    "slideshow": {
     "slide_type": "subslide"
    }
   },
   "outputs": [
    {
     "data": {
      "text/plain": [
       "<seaborn.axisgrid.FacetGrid at 0x7fb9b45cfb38>"
      ]
     },
     "execution_count": 276,
     "metadata": {},
     "output_type": "execute_result"
    },
    {
     "data": {
      "image/png": "[encoded data removed]",
      "text/plain": [
       "<matplotlib.figure.Figure at 0x7fb9b40b37f0>"
      ]
     },
     "metadata": {},
     "output_type": "display_data"
    }
   ],
   "source": [
    "g = sns.factorplot('Survived', col='Pclass', hue='Sex', data=titanic_lite, kind='count', size=7, aspect=0.8,  palette={'male':'purple','female':'coral'})\n",
    "(g.set_axis_labels('Survived','No. of passengers')\n",
    ".set_xticklabels(['False','True'])\n",
    ".set_titles('Class {col_name}'))"
   ]
  },
  {
   "cell_type": "code",
   "execution_count": 277,
   "metadata": {
    "slideshow": {
     "slide_type": "slide"
    }
   },
   "outputs": [
    {
     "name": "stdout",
     "output_type": "stream",
     "text": [
      "1st class - female survival rate: 96.81%\n",
      "1st class - male survival rate: 36.89% \n",
      "\n",
      "2st class - female survival rate: 92.11%\n",
      "2st class - male survival rate: 15.74% \n",
      "\n",
      "3st class - female survival rate: 50.0%\n",
      "3st class - male survival rate: 13.54%\n"
     ]
    }
   ],
   "source": [
    "# percentage of survivors by class based on sex\n",
    "def sexsurvival_rate_byclass(Pclass,sex):\n",
    "    #Arg: 1,2,3\n",
    "    #sex: male,female\n",
    "    #output: % survived by sex\n",
    "    percent = (survivors_per_classx[Pclass,sex,1]/class_groupby_sex[Pclass,sex]*100).round(2)\n",
    "    return percent\n",
    "\n",
    "print('1st class - female survival rate: {}%'.format(sexsurvival_rate_byclass(1,'female')))\n",
    "print('1st class - male survival rate: {}%'.format(sexsurvival_rate_byclass(1,'male')),'\\n')\n",
    "\n",
    "print('2st class - female survival rate: {}%'.format(sexsurvival_rate_byclass(2,'female')))\n",
    "print('2st class - male survival rate: {}%'.format(sexsurvival_rate_byclass(2,'male')),'\\n')\n",
    "\n",
    "print('3st class - female survival rate: {}%'.format(sexsurvival_rate_byclass(3,'female')))\n",
    "print('3st class - male survival rate: {}%'.format(sexsurvival_rate_byclass(3,'male')))"
   ]
  },
  {
   "cell_type": "code",
   "execution_count": 278,
   "metadata": {
    "slideshow": {
     "slide_type": "subslide"
    }
   },
   "outputs": [
    {
     "name": "stdout",
     "output_type": "stream",
     "text": [
      "1st class survival rate: 62.96% \n",
      "\n",
      "2st class survival rate: 47.28% \n",
      "\n",
      "3st class survival rate: 24.24% \n",
      "\n"
     ]
    }
   ],
   "source": [
    "#percent survivors by class\n",
    "def survival_rate_byclass(Pclass):\n",
    "    survivors_per_class = titanic_lite.groupby(['Pclass','Survived']).size()[Pclass,1]\n",
    "    rate = (survivors_per_class/p_by_class[Pclass]*100).round(2)\n",
    "    return rate\n",
    "print('1st class survival rate: {}%'.format(survival_rate_byclass(1)),'\\n')\n",
    "print('2st class survival rate: {}%'.format(survival_rate_byclass(2)),'\\n')\n",
    "print('3st class survival rate: {}%'.format(survival_rate_byclass(3)),'\\n')"
   ]
  },
  {
   "cell_type": "markdown",
   "metadata": {
    "slideshow": {
     "slide_type": "subslide"
    }
   },
   "source": [
    "Socio-economic standing played a big role in the survival rate of passengers. First class passengers had a survival rate of 62.96% - nearly 3x that of a third class passenger at 24.24%.Second class passengers were at 47.28% survival rate; almost 2x that of third class passengers. It's clear preference was given to passengers of high socio-economic standing when it came to rescue attempts."
   ]
  },
  {
   "cell_type": "code",
   "execution_count": 279,
   "metadata": {
    "slideshow": {
     "slide_type": "subslide"
    }
   },
   "outputs": [
    {
     "name": "stdout",
     "output_type": "stream",
     "text": [
      "Overall survival rate: 38.38% \n",
      "\n",
      "Overall fatality rate: 61.62% \n",
      "\n"
     ]
    }
   ],
   "source": [
    "#overall survival rate\n",
    "def overall_survival_rate(survived):\n",
    "    rate = (survivors[survived]/len(titanic_lite)*100).round(2)\n",
    "    return rate\n",
    "print('Overall survival rate: {}%'.format(overall_survival_rate(1)),'\\n')\n",
    "print('Overall fatality rate: {}%'.format(overall_survival_rate(0)),'\\n')"
   ]
  },
  {
   "cell_type": "code",
   "execution_count": 280,
   "metadata": {
    "slideshow": {
     "slide_type": "subslide"
    }
   },
   "outputs": [
    {
     "name": "stdout",
     "output_type": "stream",
     "text": [
      "Percentage of survivors who are male: 31.87%\n",
      "Percentage of survivors who are female: 68.13% \n",
      "\n",
      "Percentage of fatalities who are male: 85.25%\n",
      "Percentage of fatalities who are female: 14.75% \n",
      "\n"
     ]
    }
   ],
   "source": [
    "#percentage of survivors of fatalities by sex\n",
    "def overall_survival_rate_bysex(sex,survived):\n",
    "    rate = (survivors_bysex[survived,sex]/survivors[survived]*100).round(2)\n",
    "    return rate\n",
    "print('Percentage of survivors who are male: {}%'.format(overall_survival_rate_bysex('male',1)))\n",
    "print('Percentage of survivors who are female: {}%'.format(overall_survival_rate_bysex('female',1)),'\\n')\n",
    "print('Percentage of fatalities who are male: {}%'.format(overall_survival_rate_bysex('male',0)))\n",
    "print('Percentage of fatalities who are female: {}%'.format(overall_survival_rate_bysex('female',0)),'\\n')"
   ]
  },
  {
   "cell_type": "markdown",
   "metadata": {
    "slideshow": {
     "slide_type": "subslide"
    }
   },
   "source": [
    "Sex of the passenger played a part in their survival as evident from the data:\n",
    "despite being only 35.24% of passengers who boarded, female passengers formed more than two-thirds of the survivors ; 68.13% while male passengers were 85.25% of the fatalities. It is clear that rescue efforts favored women giving them a survival rate of 2.13x to men."
   ]
  },
  {
   "cell_type": "code",
   "execution_count": 281,
   "metadata": {
    "slideshow": {
     "slide_type": "slide"
    }
   },
   "outputs": [
    {
     "name": "stdout",
     "output_type": "stream",
     "text": [
      "Total no. of passengers with age entries:  712\n",
      "Total number of survivors: 288\n",
      "Total number of fatalities: 424\n",
      "Average age of survivors: 28.0\n",
      "Average age of fatalities: 31.0\n"
     ]
    }
   ],
   "source": [
    "#remove NA age\n",
    "titanic_lite_age_cleaned = titanic_lite.dropna()\n",
    "print('Total no. of passengers with age entries: ',titanic_lite_age_cleaned['Age'].count())\n",
    "\n",
    "#number of survivors and fatalities with age entries\n",
    "number_survived = titanic_lite_age_cleaned[titanic_lite_age_cleaned['Survived']==True]['Survived'].count()\n",
    "number_dead = titanic_lite_age_cleaned[titanic_lite_age_cleaned['Survived']==False]['Survived'].count()\n",
    "\n",
    "#find average of survivors and fatalities\n",
    "mean_age_survived = titanic_lite_age_cleaned[titanic_lite_age_cleaned['Survived']==True]['Age'].mean()\n",
    "mean_age_dead = titanic_lite_age_cleaned[titanic_lite_age_cleaned['Survived']==False]['Age'].mean()\n",
    "\n",
    "#display few raw totals\n",
    "print('Total number of survivors: {}\\nTotal number of fatalities: {}\\nAverage age of survivors: {}\\n\\\n",
    "Average age of fatalities: {}'.format(number_survived,number_dead,np.round(mean_age_survived),np.round(mean_age_dead)))"
   ]
  },
  {
   "cell_type": "code",
   "execution_count": 282,
   "metadata": {
    "slideshow": {
     "slide_type": "subslide"
    }
   },
   "outputs": [
    {
     "data": {
      "text/plain": [
       "<seaborn.axisgrid.FacetGrid at 0x7fb9b4362ef0>"
      ]
     },
     "execution_count": 282,
     "metadata": {},
     "output_type": "execute_result"
    },
    {
     "data": {
      "image/png": "[encoded data removed]",
      "text/plain": [
       "<matplotlib.figure.Figure at 0x7fb9b4925b70>"
      ]
     },
     "metadata": {},
     "output_type": "display_data"
    }
   ],
   "source": [
    "#graph- age of passengers across those who survived\n",
    "g = sns.factorplot(x='Survived', y='Age', hue='Sex', data=titanic_lite_age_cleaned, kind='box', size=7, aspect=0.8,  palette={'male':'purple','female':'coral'})\n",
    "\n",
    "(g.set_axis_labels('Survivors','Age of passengers')\n",
    ".set_xticklabels('False','True'))"
   ]
  },
  {
   "cell_type": "markdown",
   "metadata": {
    "slideshow": {
     "slide_type": "subslide"
    }
   },
   "source": [
    "Age was not a factor in survival rate for both genders. "
   ]
  },
  {
   "cell_type": "code",
   "execution_count": 283,
   "metadata": {
    "slideshow": {
     "slide_type": "slide"
    }
   },
   "outputs": [
    {
     "data": {
      "text/plain": [
       "Text(0.5,1,'Age distribution of passengers.')"
      ]
     },
     "execution_count": 283,
     "metadata": {},
     "output_type": "execute_result"
    },
    {
     "data": {
      "image/png": "[encoded data removed]",
      "text/plain": [
       "<matplotlib.figure.Figure at 0x7fb9b4419dd8>"
      ]
     },
     "metadata": {},
     "output_type": "display_data"
    }
   ],
   "source": [
    "#age distribution of passengers\n",
    "g = sns.distplot(titanic_lite_age_cleaned['Age'], hist=True, kde=False, bins=8, hist_kws={'edgecolor':'black'})\n",
    "plt.xlabel('Age')\n",
    "plt.ylabel('No. of passengers')\n",
    "plt.title('Age distribution of passengers.')"
   ]
  },
  {
   "cell_type": "markdown",
   "metadata": {
    "slideshow": {
     "slide_type": "subslide"
    }
   },
   "source": [
    "After removing null age entries, a majority of the passengers were between 20-40 years old."
   ]
  },
  {
   "cell_type": "code",
   "execution_count": 284,
   "metadata": {
    "slideshow": {
     "slide_type": "slide"
    }
   },
   "outputs": [
    {
     "name": "stdout",
     "output_type": "stream",
     "text": [
      "Category  Survived\n",
      "child     0            52\n",
      "          1            61\n",
      "man       0           325\n",
      "          1            70\n",
      "woman     0            47\n",
      "          1           157\n",
      "dtype: int64\n"
     ]
    }
   ],
   "source": [
    "#create category column and assign man,woman or child\n",
    "titanic_lite_age_cleaned.loc[((titanic_lite_age_cleaned['Sex']=='female') & (titanic_lite_age_cleaned['Age']>=18)),\n",
    "                            'Category']='woman'\n",
    "titanic_lite_age_cleaned.loc[((titanic_lite_age_cleaned['Sex']=='male') & (titanic_lite_age_cleaned['Age']>=18)),\n",
    "                             'Category']='man'\n",
    "titanic_lite_age_cleaned.loc[(titanic_lite_age_cleaned['Age']<18),'Category']='child'\n",
    "\n",
    "#get the totals grouped by man, woman and child by survival\n",
    "print(titanic_lite_age_cleaned.groupby(['Category','Survived']).size())\n"
   ]
  },
  {
   "cell_type": "code",
   "execution_count": 285,
   "metadata": {
    "scrolled": true,
    "slideshow": {
     "slide_type": "subslide"
    }
   },
   "outputs": [
    {
     "data": {
      "image/png": "[encoded data removed]",
      "text/plain": [
       "<matplotlib.figure.Figure at 0x7fb9b4087f28>"
      ]
     },
     "metadata": {},
     "output_type": "display_data"
    }
   ],
   "source": [
    "#gragp-compare survival between men,women and children\n",
    "g = sns.factorplot('Survived', col='Category', data=titanic_lite_age_cleaned, kind='count', size=5, aspect=0.6)\n",
    "(g.set_axis_labels('Survivors','No. of passengers')\n",
    ".set_xticklabels('False','True'))\n",
    "\n",
    "titles = ['Men','Women','Children']\n",
    "for ax,title in zip(g.axes.flat, titles):\n",
    "    ax.set_title(title)"
   ]
  },
  {
   "cell_type": "markdown",
   "metadata": {
    "slideshow": {
     "slide_type": "subslide"
    }
   },
   "source": [
    "The survival rate of women and children is way higher than men. It's important to note that the contemporary definition of child was used (<18yr) as oppossed to that used in the 1900s (probably <14yr). This may have skewed the results showing children's survival rate being lower. Inspite of that, women and children clearly had preference for lifeboats increasing their survival rate."
   ]
  },
  {
   "cell_type": "code",
   "execution_count": 286,
   "metadata": {
    "slideshow": {
     "slide_type": "slide"
    }
   },
   "outputs": [
    {
     "name": "stdout",
     "output_type": "stream",
     "text": [
      "Total no. of children with nannies: 32\n",
      "No. of children with nannies who survived: 16\n",
      "No. of children with nannies who did not survive: 16\n",
      "Percent of children who survived: 50.0%\n",
      "Average age of children with nannies who survived: 15.0\n"
     ]
    }
   ],
   "source": [
    "#separate children with nannies and those with parents\n",
    "titanic_children_nannies = titanic_lite_age_cleaned.loc[(titanic_lite_age_cleaned['Category']=='child') & \n",
    "                                                        (titanic_lite_age_cleaned['Parch']==0)]\n",
    "\n",
    "titanic_children_parents = titanic_lite_age_cleaned.loc[(titanic_lite_age_cleaned['Category']=='child') &\n",
    "                                                       (titanic_lite_age_cleaned['Parch']>0)]\n",
    "\n",
    "# determine children with nannies who survived and who did not\n",
    "survived_children_nannies = titanic_children_nannies.Survived.sum()\n",
    "total_children_nannies = titanic_children_nannies.Survived.count()\n",
    "pct_survived_nannies = ((float(survived_children_nannies)/total_children_nannies)*100)\n",
    "pct_survived_nannies =np.round(pct_survived_nannies,2)\n",
    "survived_children_nannies_avg_age = np.round(titanic_children_nannies.Age.mean())\n",
    "\n",
    "print('Total no. of children with nannies: {}\\nNo. of children with nannies who survived: {}\\n\\\n",
    "No. of children with nannies who did not survive: {}\\nPercent of children who survived: {}%\\n\\\n",
    "Average age of children with nannies who survived: {}'.format(total_children_nannies, survived_children_nannies,\n",
    "                                                             total_children_nannies-survived_children_nannies,\n",
    "                                                             pct_survived_nannies, survived_children_nannies_avg_age))"
   ]
  },
  {
   "cell_type": "code",
   "execution_count": 287,
   "metadata": {
    "slideshow": {
     "slide_type": "subslide"
    }
   },
   "outputs": [
    {
     "name": "stdout",
     "output_type": "stream",
     "text": [
      "Total no. of children with parents: 81\n",
      "No. of children with parents who survived: 45\n",
      "No. of children with parents who did not survive: 36\n",
      "Percent of children who survived: 55.56%\n",
      "Average age of children with parents who survived: 7.0\n"
     ]
    }
   ],
   "source": [
    "#determine children with parents who survived and who did not\n",
    "survived_children_parents = titanic_children_parents.Survived.sum()\n",
    "total_children_parents = titanic_children_parents.Survived.count()\n",
    "pct_survived_parents = ((float(survived_children_parents)/total_children_parents)*100)\n",
    "pct_survived_parents =np.round(pct_survived_parents,2)\n",
    "survived_children_parents_avg_age = np.round(titanic_children_parents.Age.mean())\n",
    "\n",
    "print('Total no. of children with parents: {}\\nNo. of children with parents who survived: {}\\n\\\n",
    "No. of children with parents who did not survive: {}\\nPercent of children who survived: {}%\\n\\\n",
    "Average age of children with parents who survived: {}'.format(total_children_parents, survived_children_parents,\n",
    "                                                             total_children_parents-survived_children_parents,\n",
    "                                                             pct_survived_parents, survived_children_parents_avg_age))"
   ]
  },
  {
   "cell_type": "markdown",
   "metadata": {
    "slideshow": {
     "slide_type": "subslide"
    }
   },
   "source": [
    "To get the number of children travelling with nannies we used the condition Parch==0, leading to making two assumptions: they were not accompanied by an older sibling or simply travelling alone. From the data more children travelled with their parent(s) and they were more likely to survive with a survival rate of 55.56%. However, this was only slightly better than those who travelled with nannies by 5.56%. They also tended to be younger with an average age of 7 years; half the average age of children with nannies. It's safe to say that nannies took as much care of the children as parents."
   ]
  },
  {
   "cell_type": "code",
   "execution_count": 288,
   "metadata": {
    "slideshow": {
     "slide_type": "slide"
    }
   },
   "outputs": [
    {
     "name": "stdout",
     "output_type": "stream",
     "text": [
      "Embarked\n",
      "C    168\n",
      "Q     77\n",
      "S    644\n",
      "dtype: int64\n"
     ]
    },
    {
     "data": {
      "image/png": "[encoded data removed]",
      "text/plain": [
       "<matplotlib.figure.Figure at 0x7fb9b4894438>"
      ]
     },
     "metadata": {},
     "output_type": "display_data"
    }
   ],
   "source": [
    "city = titanic_lite.groupby(['Embarked']).size()\n",
    "print(city)\n",
    "g = sns.factorplot('Embarked', data=titanic_lite, kind='count', size=5, aspect=0.8)"
   ]
  },
  {
   "cell_type": "code",
   "execution_count": 289,
   "metadata": {
    "slideshow": {
     "slide_type": "subslide"
    }
   },
   "outputs": [
    {
     "name": "stdout",
     "output_type": "stream",
     "text": [
      "Embarked  Survived\n",
      "C         0            75\n",
      "          1            93\n",
      "Q         0            47\n",
      "          1            30\n",
      "S         0           427\n",
      "          1           217\n",
      "dtype: int64\n"
     ]
    },
    {
     "data": {
      "image/png": "[encoded data removed]",
      "text/plain": [
       "<matplotlib.figure.Figure at 0x7fb9b483e0b8>"
      ]
     },
     "metadata": {},
     "output_type": "display_data"
    }
   ],
   "source": [
    "survivors_by_city = titanic_lite.groupby(['Embarked','Survived']).size()\n",
    "print(survivors_by_city)\n",
    "\n",
    "g = sns.factorplot('Survived', col='Embarked', hue='Survived', data=titanic_lite, kind='count', size=5, aspect=0.5)"
   ]
  },
  {
   "cell_type": "code",
   "execution_count": 290,
   "metadata": {
    "slideshow": {
     "slide_type": "subslide"
    }
   },
   "outputs": [
    {
     "name": "stdout",
     "output_type": "stream",
     "text": [
      "Embarked  Pclass\n",
      "C         1          85\n",
      "          2          17\n",
      "          3          66\n",
      "Q         1           2\n",
      "          2           3\n",
      "          3          72\n",
      "S         1         127\n",
      "          2         164\n",
      "          3         353\n",
      "dtype: int64\n"
     ]
    },
    {
     "data": {
      "image/png": "[encoded data removed]",
      "text/plain": [
       "<matplotlib.figure.Figure at 0x7fb9b3f5cc50>"
      ]
     },
     "metadata": {},
     "output_type": "display_data"
    }
   ],
   "source": [
    "city_by_class = titanic_lite.groupby(['Embarked','Pclass']).size()\n",
    "print(city_by_class)\n",
    "\n",
    "g = sns.factorplot('Pclass', col='Embarked', hue='Pclass', data=titanic_lite, kind='count', size=5, aspect=0.5)"
   ]
  },
  {
   "cell_type": "markdown",
   "metadata": {
    "slideshow": {
     "slide_type": "subslide"
    }
   },
   "source": [
    "The origin of the passengers were Southampton(S), Cherbourgh(C) and Queenstown(Q). Majority of the passenges embarked in Southampton with Queenstown having the least number. Cherbourgh can be assumed to be a wealthy town judging from the percentage of its passengers in first or second class. Southampton follows the normal trend of wealth distribution while Queenstown is skewed towards the lower economic rung."
   ]
  },
  {
   "cell_type": "code",
   "execution_count": null,
   "metadata": {
    "slideshow": {
     "slide_type": "skip"
    }
   },
   "outputs": [],
   "source": []
  }
 ],
 "metadata": {
  "celltoolbar": "Slideshow",
  "kernelspec": {
   "display_name": "Python [conda env:anaconda3]",
   "language": "python",
   "name": "conda-env-anaconda3-py"
  },
  "language_info": {
   "codemirror_mode": {
    "name": "ipython",
    "version": 3
   },
   "file_extension": ".py",
   "mimetype": "text/x-python",
   "name": "python",
   "nbconvert_exporter": "python",
   "pygments_lexer": "ipython3",
   "version": "3.6.4"
  }
 },
 "nbformat": 4,
 "nbformat_minor": 2
}
